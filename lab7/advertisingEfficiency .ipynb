{
 "cells": [
  {
   "cell_type": "code",
   "execution_count": 17,
   "metadata": {},
   "outputs": [],
   "source": [
    "import math\n",
    "import numpy as np\n",
    "from scipy.integrate import odeint\n",
    "import matplotlib.pyplot as plt"
   ]
  },
  {
   "cell_type": "code",
   "execution_count": 18,
   "metadata": {},
   "outputs": [],
   "source": [
    "x0 = 7 # Количество людей, знающих о товаре в начальный момент времени\n",
    "N = 1234 # Максимальное количество людей, которых может заинтересовать товар\n",
    "t = np.arange(0, 12, 0.01) # Временной промежуток "
   ]
  },
  {
   "cell_type": "code",
   "execution_count": 19,
   "metadata": {},
   "outputs": [],
   "source": [
    "# Зададим коэффициенты для всех уравнений\n",
    "def k1(t):\n",
    "    g = 0.618\n",
    "    return g\n",
    "\n",
    "def k2(t):\n",
    "    g = 0.0000117\n",
    "    return g\n",
    "\n",
    "def k3(t):\n",
    "    g = 0.5*np.sin(10*t)\n",
    "    return g\n",
    "\n",
    "# для задания из лабораторной\n",
    "def k4(t):\n",
    "    g = 0.009\n",
    "    return g"
   ]
  },
  {
   "cell_type": "code",
   "execution_count": 20,
   "metadata": {},
   "outputs": [],
   "source": [
    "def p1(t):\n",
    "    v = 0.000013\n",
    "    return v\n",
    "\n",
    "def p2(t):\n",
    "    v = 0.25\n",
    "    return v\n",
    "\n",
    "def p3(t):\n",
    "    v = 0.4*np.cos(2*t)\n",
    "    return v\n",
    "\n",
    "# для задания из лабораторной\n",
    "def p4(t):\n",
    "    v = 0.0009\n",
    "    return v"
   ]
  },
  {
   "cell_type": "code",
   "execution_count": 21,
   "metadata": {},
   "outputs": [],
   "source": [
    "# уравнение, описывающее распространение рекламы\n",
    "\n",
    "# из задания\n",
    "\n",
    "def f1(x, t):\n",
    "    xd1 = ( k1(t) + p1(t)*x )*( N - x )\n",
    "    return xd1\n",
    "\n",
    "def f2(x, t):\n",
    "    xd2 = ( k2(t) + p2(t)*x )*( N - x )\n",
    "    return xd2\n",
    "\n",
    "\n",
    "def f3(x, t):\n",
    "    xd3 = ( k3(t) + p3(t)*x )*( N - x )\n",
    "    return xd3\n",
    "\n",
    "# платная реклама равна нулю\n",
    "def f4(x, t):\n",
    "    xd4 = ( p4(t)*x )*( N - x )\n",
    "    return xd4\n",
    "\n",
    "# сарафанное радио равно нулю\n",
    "def f5(x, t):\n",
    "    xd5 = k4(t) *( N - x )\n",
    "    return xd5"
   ]
  },
  {
   "cell_type": "code",
   "execution_count": 22,
   "metadata": {},
   "outputs": [],
   "source": [
    "# решение ОДУ\n",
    "x1 = odeint(f1, x0, t)\n",
    "x2 = odeint(f2, x0, t)\n",
    "x3 = odeint(f3, x0, t)\n",
    "x4 = odeint(f4, x0, t)\n",
    "x5 = odeint(f5, x0, t)"
   ]
  },
  {
   "cell_type": "code",
   "execution_count": 23,
   "metadata": {},
   "outputs": [
    {
     "data": {
      "text/plain": [
       "[<matplotlib.lines.Line2D at 0x7f7d00ccac70>]"
      ]
     },
     "execution_count": 23,
     "metadata": {},
     "output_type": "execute_result"
    },
    {
     "data": {
      "image/png": "[encoded data removed]",
      "text/plain": [
       "<Figure size 432x288 with 1 Axes>"
      ]
     },
     "metadata": {
      "needs_background": "light"
     },
     "output_type": "display_data"
    }
   ],
   "source": [
    "plt.plot(t, x1) # случай 1"
   ]
  },
  {
   "cell_type": "code",
   "execution_count": 24,
   "metadata": {},
   "outputs": [
    {
     "data": {
      "text/plain": [
       "[<matplotlib.lines.Line2D at 0x7f7d00c9ceb0>]"
      ]
     },
     "execution_count": 24,
     "metadata": {},
     "output_type": "execute_result"
    },
    {
     "data": {
      "image/png": "[encoded data removed]",
      "text/plain": [
       "<Figure size 432x288 with 1 Axes>"
      ]
     },
     "metadata": {
      "needs_background": "light"
     },
     "output_type": "display_data"
    }
   ],
   "source": [
    "plt.plot(t, x2) # случай 2"
   ]
  },
  {
   "cell_type": "code",
   "execution_count": 29,
   "metadata": {},
   "outputs": [
    {
     "data": {
      "text/plain": [
       "0.02"
      ]
     },
     "execution_count": 29,
     "metadata": {},
     "output_type": "execute_result"
    }
   ],
   "source": [
    "# Момент времени с максимальной скоростью\n",
    "t[np.argmax(x2[1:].reshape(1,1199)/t[1:]) + 1]"
   ]
  },
  {
   "cell_type": "code",
   "execution_count": 26,
   "metadata": {},
   "outputs": [
    {
     "data": {
      "text/plain": [
       "[<matplotlib.lines.Line2D at 0x7f7d00bfe070>]"
      ]
     },
     "execution_count": 26,
     "metadata": {},
     "output_type": "execute_result"
    },
    {
     "data": {
      "image/png": "[encoded data removed]",
      "text/plain": [
       "<Figure size 432x288 with 1 Axes>"
      ]
     },
     "metadata": {
      "needs_background": "light"
     },
     "output_type": "display_data"
    }
   ],
   "source": [
    "plt.plot(t, x3) # случай 3"
   ]
  },
  {
   "cell_type": "code",
   "execution_count": 27,
   "metadata": {},
   "outputs": [
    {
     "data": {
      "text/plain": [
       "<matplotlib.legend.Legend at 0x7f7d00c05790>"
      ]
     },
     "execution_count": 27,
     "metadata": {},
     "output_type": "execute_result"
    },
    {
     "data": {
      "image/png": "[encoded data removed]",
      "text/plain": [
       "<Figure size 432x288 with 1 Axes>"
      ]
     },
     "metadata": {
      "needs_background": "light"
     },
     "output_type": "display_data"
    }
   ],
   "source": [
    "plt.plot(t, x1, label='случай 1') # случай 1\n",
    "plt.plot(t, x2, label='случай 2') # случай 2\n",
    "plt.plot(t, x3, label='случай 3') # случай 3\n",
    "plt.legend()"
   ]
  },
  {
   "cell_type": "code",
   "execution_count": 28,
   "metadata": {},
   "outputs": [
    {
     "data": {
      "text/plain": [
       "<matplotlib.legend.Legend at 0x7f7d00e34310>"
      ]
     },
     "execution_count": 28,
     "metadata": {},
     "output_type": "execute_result"
    },
    {
     "data": {
      "image/png": "[encoded data removed]",
      "text/plain": [
       "<Figure size 432x288 with 1 Axes>"
      ]
     },
     "metadata": {
      "needs_background": "light"
     },
     "output_type": "display_data"
    }
   ],
   "source": [
    "plt.plot(t, x4, label='Сарафанное') # нет платной\n",
    "plt.plot(t, x5, label='Платная') # нет сарафанного\n",
    "plt.legend()"
   ]
  }
 ],
 "metadata": {
  "kernelspec": {
   "display_name": "Python 3",
   "language": "python",
   "name": "python3"
  },
  "language_info": {
   "codemirror_mode": {
    "name": "ipython",
    "version": 3
   },
   "file_extension": ".py",
   "mimetype": "text/x-python",
   "name": "python",
   "nbconvert_exporter": "python",
   "pygments_lexer": "ipython3",
   "version": "3.8.3"
  }
 },
 "nbformat": 4,
 "nbformat_minor": 4
}
